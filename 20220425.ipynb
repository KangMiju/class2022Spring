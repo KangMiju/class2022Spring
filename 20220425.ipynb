{
  "nbformat": 4,
  "nbformat_minor": 0,
  "metadata": {
    "colab": {
      "name": "20220425.ipynb",
      "provenance": [],
      "authorship_tag": "ABX9TyME9julPx7AVCbvWIdKBhr2",
      "include_colab_link": true
    },
    "kernelspec": {
      "name": "python3",
      "display_name": "Python 3"
    },
    "language_info": {
      "name": "python"
    }
  },
  "cells": [
    {
      "cell_type": "markdown",
      "metadata": {
        "id": "view-in-github",
        "colab_type": "text"
      },
      "source": [
        "<a href=\"https://colab.research.google.com/github/KangMiju/class2022Spring/blob/main/20220425.ipynb\" target=\"_parent\"><img src=\"https://colab.research.google.com/assets/colab-badge.svg\" alt=\"Open In Colab\"/></a>"
      ]
    },
    {
      "cell_type": "code",
      "execution_count": null,
      "metadata": {
        "id": "1pz8QTw8qh8p"
      },
      "outputs": [],
      "source": [
        ""
      ]
    },
    {
      "cell_type": "markdown",
      "source": [
        "# **Auto Correlation**\n",
        "\n"
      ],
      "metadata": {
        "id": "22rDyuBvqksr"
      }
    },
    {
      "cell_type": "markdown",
      "source": [
        "시간차를 두고 만들어진 자기자신의 시그널과의 유사도를 확인하기 위해서 사용하는 방식. \n",
        "\n",
        "즉 연속적인 시간 내에서 간격을 지닌 같은 변수 사이의 상관관계를 분석하는 것. \n",
        "\n",
        "시간적으로 치우처진 버전의 변수값이 기존 것과 얼마나 차이가 있는지를 측정. \n",
        "\n",
        "반복되는 패턴을 찾기 위해서 사용된다.\n",
        "periodic signal이나 사라진 기본 주파수 등을 찾는 데 사용된다.  \n",
        "\n",
        "Autocorrelation이 무작위성을 판별하는 데 사용될때, 첫번째 autocorrelation만 중요하다. \n",
        "\n",
        "Autocorrelation을 통해서 데이터들이 무작위, 작위의 과정 중 어떤 과정을 거쳐서 발생한 것인지를 판별할 수 있게 해준다.\n",
        "\n",
        "Autocorrelation의 범위는 -1 에서부터 1까지.\n",
        "-1~0 은 negative autocorrelation. \n",
        "0~1은 possitive autocorrelation\n",
        "\n",
        "\n",
        "\n",
        "\n",
        "<식>\n",
        "P(k) = Cor(Xt+k , Xt)\n",
        "\n",
        "\n",
        "\n",
        "\n"
      ],
      "metadata": {
        "id": "-iUun_26vi82"
      }
    },
    {
      "cell_type": "code",
      "source": [
        ""
      ],
      "metadata": {
        "id": "nGkcAFRgxmII"
      },
      "execution_count": null,
      "outputs": []
    },
    {
      "cell_type": "code",
      "source": [
        ""
      ],
      "metadata": {
        "id": "TGm55MYhxl8C"
      },
      "execution_count": null,
      "outputs": []
    },
    {
      "cell_type": "code",
      "source": [
        ""
      ],
      "metadata": {
        "id": "jSxvprOyxlUU"
      },
      "execution_count": null,
      "outputs": []
    },
    {
      "cell_type": "markdown",
      "source": [
        "# **Root Measure Square**"
      ],
      "metadata": {
        "id": "G5Fvhn1atY9n"
      }
    },
    {
      "cell_type": "markdown",
      "source": [
        "대표값.\n",
        "원래 값을 제곱한 값의 평균값의 양의 제곱근. (수식) - \"제곱평균제곱근\"\n",
        "(원래의 값의 제곱들에 대한 산술평균의 제곱근)\n",
        "전기공학 / 음향학에서 사용. \n",
        "\n",
        "\n",
        "= 항상 균일하게 증폭이 되는 출력을 크기로 표시한 것.\n",
        "실효 출력 / 정격 출력 (Watt로 표기)\n",
        "\n",
        "\n",
        "소리를 구성하는 데이터들, 샘플들의 평균을 구하다보면, 이 데이터들인 +와 -값을 교대로 갖는 형식이라서 평균이 거의 0에 가까워지기 때문에 평균이라고 하는 것이 그닥 의미가 없는 값이 탄생. 그래서 이러한 RMS 식의 계산방법을 만든 것. \n",
        "\n",
        "주로 소리가 객관적으로 얼마나 큰지를 나타내는 데에도 사용. "
      ],
      "metadata": {
        "id": "HTc7Jj8Ztg0l"
      }
    }
  ]
}