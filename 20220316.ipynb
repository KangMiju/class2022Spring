{
  "nbformat": 4,
  "nbformat_minor": 0,
  "metadata": {
    "colab": {
      "name": "20220316.ipynb",
      "provenance": [],
      "authorship_tag": "ABX9TyPVoh40OzxkDl2bYCaI5OQI",
      "include_colab_link": true
    },
    "kernelspec": {
      "name": "python3",
      "display_name": "Python 3"
    },
    "language_info": {
      "name": "python"
    }
  },
  "cells": [
    {
      "cell_type": "markdown",
      "metadata": {
        "id": "view-in-github",
        "colab_type": "text"
      },
      "source": [
        "<a href=\"https://colab.research.google.com/github/KangMiju/class2022Spring/blob/main/20220316.ipynb\" target=\"_parent\"><img src=\"https://colab.research.google.com/assets/colab-badge.svg\" alt=\"Open In Colab\"/></a>"
      ]
    },
    {
      "cell_type": "markdown",
      "source": [
        "**Variables.ipynb**"
      ],
      "metadata": {
        "id": "EddG7pOEqJW7"
      }
    },
    {
      "cell_type": "code",
      "source": [
        "#변수의 종류 : 숫자, 문자, list(여러개를 담을 때, [,  ,  , ]형식으로 쓰면 된다. 대괄호.), tuple, dict\n",
        "#print(type(변수)) -> 입력된 변수의 type을 알려줌.\n",
        "#int -> integer정수, float -> 소수, str->string 문자, list\n",
        "a=1; print(type(a)) #int\n",
        "b=1.1; print(type(b)) #float\n",
        "c='123';print(type(c)); print(c[1]) #str #''대신에 \"\"해도 똑같다. \n",
        "d='hello'; print(type(a));print(d[1]) #str  / ' '안에 문자, 숫자\n"
      ],
      "metadata": {
        "id": "IkMOckZvqH06"
      },
      "execution_count": null,
      "outputs": []
    },
    {
      "cell_type": "code",
      "source": [
        "e=[1,2,3,4]; print(type(e)); print(e[0]) #list\n",
        "print(e[:]) #변수[:]는 그 리스트의 전부를 출력. \n",
        "print(e[0:3]) #0번째에서 \"2\"번째까지!!!!!! 뒤에 숫자를 포함하지 않는다.\n",
        "e[1:-1] #-1번째는 4인데 그 4라는 숫자는 범위에 포함하지 않으니까 2~3까지가 포함.\n",
        "e[:2] #처음부터 2번째인 3까지. \n",
        "f=[1, 'a', [3,'4']]; #int, str, list의 조합, 1부터 차례대로 0번째.\n",
        "#print(f[1],[0])은 error가 안뜨지만, print(f[1][1])은 error가 뜰것임. 왜냐? 그 자리에 해당하는 값이 없으니까.\n",
        "print(type(f)); print(f[0]); print(f[1]); print(f[2]); print(f[2][1])\n",
        "\n",
        "#g='1, 2, 3, 4, 5, 6, 7, 8' 이런 식으로 쓰여있어도 list에서 범위값을 구할때와 동일한 방법으로 구하면 됨.\n",
        "#g[1:4] -----> '2, 3, 4, 5'\n",
        "#g[3:-2]------> '4, 5, 6'"
      ],
      "metadata": {
        "id": "7OSCfjKzRyCX"
      },
      "execution_count": null,
      "outputs": []
    },
    {
      "cell_type": "markdown",
      "source": [
        "*tuple*은 list와 모든 면에서 같다. 다만 대괄호 대신, a=( , , , ) 형식으로 쓴다.\n",
        "tuple에는 item assignment 기능이 없다.\n",
        "\n",
        "코딩하다가 잘못해서 중요한 정보를 지울까봐 이런 기능을 만들었다. "
      ],
      "metadata": {
        "id": "l0QJNXOAUVbO"
      }
    },
    {
      "cell_type": "markdown",
      "source": [
        "dict \n",
        "-dictionary의 줄임말. 쌍으로 되어 있다. "
      ],
      "metadata": {
        "id": "4iq4QwEBVCzf"
      }
    },
    {
      "cell_type": "code",
      "source": [
        "a={\"a\": \"apple\", \"b\": \"orange\", \"c\": 2014} #작은따옴표, 큰 따옴표는 중요하지 않다. 그저 string임을 나타내는 것.\n",
        "print(type(a))\n",
        "print(a[\"a\"])\n",
        "print(a[\"c\"])\n",
        "#기본적인 dict {키값 : value값}\n",
        "#키값에는 그냥 변수 ('aa'대신에 aa를 넣으면 오류) 값은 오면 안된다. 그러나 123같은 숫자 가능\n"
      ],
      "metadata": {
        "id": "W3ISAVz6sQbR"
      },
      "execution_count": null,
      "outputs": []
    },
    {
      "cell_type": "markdown",
      "source": [
        "**Syntax**"
      ],
      "metadata": {
        "id": "ipSBQIELQOCV"
      }
    },
    {
      "cell_type": "code",
      "execution_count": null,
      "metadata": {
        "colab": {
          "base_uri": "https://localhost:8080/"
        },
        "id": "aaiq0xAAKI6F",
        "outputId": "a2840f34-e447-4ba2-a65c-399d57818a3c"
      },
      "outputs": [
        {
          "output_type": "stream",
          "name": "stdout",
          "text": [
            "1\n",
            "2\n",
            "3\n",
            "4\n"
          ]
        }
      ],
      "source": [
        "#syntax.ipynb 복습\n",
        "#syntaz 종류 2가지 -(1) 반복문 (for문) -(2) 조건문 (if문)\n",
        "#<for-loop>\n",
        "\n",
        "a=[1, 2, 3, 4]\n",
        "for i in a:        #':'를 안붙이면 오류남.\n",
        " print(i)\n"
      ]
    },
    {
      "cell_type": "code",
      "source": [
        "a=[1, 2, 3, 4]\n",
        "for i in range(len(a)):   #len(a)=4, range는 반드시 for ~ in~ 뒤에 쓴다. index이용법   \n",
        " print(a[i])"
      ],
      "metadata": {
        "id": "CRiTn_vPMsS0"
      },
      "execution_count": null,
      "outputs": []
    },
    {
      "cell_type": "code",
      "source": [
        "a=['red', 'green', 'blue', 'purple']\n",
        "for i in range(len(a)): #red부터 차례대로 0~3, range(4)=0~3\n",
        "  print(a[i])"
      ],
      "metadata": {
        "id": "7Bfi1e4aNCq3"
      },
      "execution_count": null,
      "outputs": []
    },
    {
      "cell_type": "code",
      "source": [
        "a=0\n",
        "if a==0: #우리가 수학에서 알던 '='의 의미와 다름. 여기서 =은 a에 특정 값을 할당해주는 개념. 실제로 '같다'를 표현하고자 한다면, '=='을 사용해야 한다. / '~가 아니다'를 표현하려면 'a!=0'과 같은 식으로.\n",
        "  print(a)\n",
        "else:\n",
        "  print(a+1)\n",
        "\n",
        "#a가 0과 같다면 a를 출력하고, 아니면 1을 더한 값을 출력해라.    "
      ],
      "metadata": {
        "id": "3YI7LUKSNZgj"
      },
      "execution_count": null,
      "outputs": []
    },
    {
      "cell_type": "code",
      "source": [
        "for i in range(1, 3): #range(a, b)는 a에서 b-1값까지.\n",
        "  for j in range(3, 5):\n",
        "    print(i*j) #1*3, 1*4, 2*3, 2*4"
      ],
      "metadata": {
        "colab": {
          "base_uri": "https://localhost:8080/"
        },
        "id": "6pr-wivkN0F3",
        "outputId": "23734941-e873-452c-f015-37f4cebcb0be"
      },
      "execution_count": null,
      "outputs": [
        {
          "output_type": "stream",
          "name": "stdout",
          "text": [
            "3\n",
            "4\n",
            "6\n",
            "8\n"
          ]
        }
      ]
    },
    {
      "cell_type": "code",
      "source": [
        "# <List Comprehension>\n",
        "\n",
        "a=[1,2,3,4]\n",
        "b=[i for i in a if i >= 2]\n",
        "b"
      ],
      "metadata": {
        "colab": {
          "base_uri": "https://localhost:8080/"
        },
        "id": "EMuJFi_YOdsd",
        "outputId": "58aba1b8-61f3-48a6-bfb3-95517e0bdfc2"
      },
      "execution_count": null,
      "outputs": [
        {
          "output_type": "execute_result",
          "data": {
            "text/plain": [
              "[2, 3, 4]"
            ]
          },
          "metadata": {},
          "execution_count": 7
        }
      ]
    },
    {
      "cell_type": "code",
      "source": [
        "# <List Comprehension>\n",
        "a=['red', 'green', 'blue', 'purple']\n",
        "b=[i for i in a if len(i) >= 4]  # 'i for i in a' -> a의 'red'부터 i에 넣고, 'if len(i) >= 4' 그 i의 글자수가 4 이상이라면 출력.\n",
        "b"
      ],
      "metadata": {
        "id": "14n9TT2AOygY"
      },
      "execution_count": null,
      "outputs": []
    },
    {
      "cell_type": "code",
      "source": [
        "# <dict comprehension>\n",
        "a=['red', 'green', 'blue', 'purple']\n",
        "b=[1,2,3,4]\n",
        "c={a[i]:b[i] for i in range(4)}\n",
        "c #{a[0]:b[0], a[1]:b[1], a[2]:b[2], a[3]:b[3]}"
      ],
      "metadata": {
        "id": "eiuXkmCdPOMt"
      },
      "execution_count": null,
      "outputs": []
    },
    {
      "cell_type": "markdown",
      "source": [
        "**Function**"
      ],
      "metadata": {
        "id": "5jY12eXPQIRe"
      }
    },
    {
      "cell_type": "code",
      "source": [
        "# def 함수명(입력변수):\n",
        "# return 출력변수명\n",
        "# 새로운 함수를 만드는 방법\n",
        "\n",
        "def combine(a,b):\n",
        "    return (a+b)+a*b\n",
        "\n",
        "combine(3,5)\n",
        "\n"
      ],
      "metadata": {
        "colab": {
          "base_uri": "https://localhost:8080/"
        },
        "id": "g_M8CduvQM5C",
        "outputId": "091296ad-51ee-4c0f-d326-d4225e7146fc"
      },
      "execution_count": null,
      "outputs": [
        {
          "output_type": "execute_result",
          "data": {
            "text/plain": [
              "23"
            ]
          },
          "metadata": {},
          "execution_count": 16
        }
      ]
    },
    {
      "cell_type": "markdown",
      "source": [
        "**String**"
      ],
      "metadata": {
        "id": "y3uYkTgTlq1s"
      }
    },
    {
      "cell_type": "code",
      "source": [
        "s = 'abcdef' #s에서 a는 0번째 이자 -6번째, f는 5번째 이자 -1번째, \n",
        "print(s[0], s[5], s[-1], s[-6])\n",
        "print(s[1:3], s[1:] , s[:3], s[:])\n",
        "#s[1:] --> 1부터 끝까지 \n",
        "#s[:3] --> 처음부터 2번째까지"
      ],
      "metadata": {
        "id": "_CUq7ddUlt4H",
        "colab": {
          "base_uri": "https://localhost:8080/"
        },
        "outputId": "d8ea70b2-cbc7-48e8-c3fc-1776c54d199c"
      },
      "execution_count": 7,
      "outputs": [
        {
          "output_type": "stream",
          "name": "stdout",
          "text": [
            "a f f a\n",
            "bc bcdef abc abcdef\n"
          ]
        }
      ]
    },
    {
      "cell_type": "code",
      "source": [
        "len(s)\n",
        "s[1]+s[3]+s[4:]*10\n",
        "s.upper()  #대문자화\n"
      ],
      "metadata": {
        "id": "V0keQznGmt7c",
        "colab": {
          "base_uri": "https://localhost:8080/",
          "height": 35
        },
        "outputId": "b72b6453-124e-4f9d-ec43-1002db0a4bd9"
      },
      "execution_count": 8,
      "outputs": [
        {
          "output_type": "execute_result",
          "data": {
            "text/plain": [
              "'ABCDEF'"
            ],
            "application/vnd.google.colaboratory.intrinsic+json": {
              "type": "string"
            }
          },
          "metadata": {},
          "execution_count": 8
        }
      ]
    },
    {
      "cell_type": "code",
      "source": [
        "s = 'this is a house built this year.\\n' \t#\\n --->줄바꿈 표시. white space\n",
        "s"
      ],
      "metadata": {
        "colab": {
          "base_uri": "https://localhost:8080/",
          "height": 35
        },
        "id": "df-D0R36bSpP",
        "outputId": "76609e13-d8b1-456e-fd23-c63d61f032a6"
      },
      "execution_count": 9,
      "outputs": [
        {
          "output_type": "execute_result",
          "data": {
            "text/plain": [
              "' this is a house built this year.\\n'"
            ],
            "application/vnd.google.colaboratory.intrinsic+json": {
              "type": "string"
            }
          },
          "metadata": {},
          "execution_count": 9
        }
      ]
    },
    {
      "cell_type": "code",
      "source": [
        "n = [100, 200, 300]\n",
        "print(n[0], n[2], n[-1], n[-3])\n",
        "print(n[1:2], n[1:], n[:2], n[:])"
      ],
      "metadata": {
        "id": "2cZoxiKemoAt"
      },
      "execution_count": null,
      "outputs": []
    },
    {
      "cell_type": "code",
      "source": [
        "result = s.find('house') \t    # index of first instance of string 'house' inside s (-1 if not found)\n",
        "result"
      ],
      "metadata": {
        "colab": {
          "base_uri": "https://localhost:8080/"
        },
        "id": "So8PYyt_nyJ-",
        "outputId": "61fd16c1-be1a-4cfb-cca2-61b35956e25c"
      },
      "execution_count": 10,
      "outputs": [
        {
          "output_type": "execute_result",
          "data": {
            "text/plain": [
              "11"
            ]
          },
          "metadata": {},
          "execution_count": 10
        }
      ]
    },
    {
      "cell_type": "code",
      "source": [
        "result = s.find('this')\t      # index of first instance of string 'this' inside s (-1 if not found)\n",
        "result"
      ],
      "metadata": {
        "id": "8Wprzn2Qn2OL",
        "colab": {
          "base_uri": "https://localhost:8080/"
        },
        "outputId": "b892f955-3b81-481e-9a8c-40e78a34eee3"
      },
      "execution_count": 11,
      "outputs": [
        {
          "output_type": "execute_result",
          "data": {
            "text/plain": [
              "1"
            ]
          },
          "metadata": {},
          "execution_count": 11
        }
      ]
    },
    {
      "cell_type": "code",
      "source": [
        "s = s.strip()      \t          # a copy of s without leading or trailing whitespace. whitespace를 지우는\n",
        "s"
      ],
      "metadata": {
        "id": "WLrr36oPn6dQ",
        "colab": {
          "base_uri": "https://localhost:8080/",
          "height": 35
        },
        "outputId": "f7b40c6a-1ee6-4a8c-c748-371254ae3311"
      },
      "execution_count": 13,
      "outputs": [
        {
          "output_type": "execute_result",
          "data": {
            "text/plain": [
              "'this is a house built this year.'"
            ],
            "application/vnd.google.colaboratory.intrinsic+json": {
              "type": "string"
            }
          },
          "metadata": {},
          "execution_count": 13
        }
      ]
    },
    {
      "cell_type": "code",
      "source": [
        "tokens = s.split(' ')\t        # split s into a list wherever a t is found (whitespace by default) #띄어쓰기 단위로 나눔.\n",
        "tokens"
      ],
      "metadata": {
        "id": "UUNweQzWn_X5",
        "colab": {
          "base_uri": "https://localhost:8080/"
        },
        "outputId": "ad8cf3c3-4c69-47cd-99fe-86bb03b26439"
      },
      "execution_count": 14,
      "outputs": [
        {
          "output_type": "execute_result",
          "data": {
            "text/plain": [
              "['this', 'is', 'a', 'house', 'built', 'this', 'year.']"
            ]
          },
          "metadata": {},
          "execution_count": 14
        }
      ]
    },
    {
      "cell_type": "code",
      "source": [
        "s = ' '.join(tokens)\t        # combine the words of the text into a string using s as the glue\n",
        "s"
      ],
      "metadata": {
        "id": "dxahkLXQoFw8"
      },
      "execution_count": null,
      "outputs": []
    },
    {
      "cell_type": "code",
      "source": [
        "s = s.replace('this', 'that') # replace instances of t with u inside s      #this를 that으로 바꾸어라. \n",
        "s"
      ],
      "metadata": {
        "id": "rl6GD4bSoIZw"
      },
      "execution_count": null,
      "outputs": []
    },
    {
      "cell_type": "markdown",
      "source": [
        "**import.ipynb**"
      ],
      "metadata": {
        "id": "VucGbi2hgsff"
      }
    },
    {
      "cell_type": "markdown",
      "source": [
        "- import as"
      ],
      "metadata": {
        "id": "L4YPZNvmh58b"
      }
    },
    {
      "cell_type": "code",
      "source": [
        "#반드시 import를 먼저 해준 후에 시작할 것. \n",
        "#행렬화 --> numpy필요\n",
        "\n",
        "import numpy as np\n",
        "n=np.random.randn(100)   #100개의 random number가 만들어진다.\n",
        "\n"
      ],
      "metadata": {
        "id": "D_UnirqOg23Y"
      },
      "execution_count": null,
      "outputs": []
    },
    {
      "cell_type": "code",
      "source": [
        "import matplotlib\n",
        "matplotlib.pyplot.hist()  #위의 코드 중 'n= np.random.randn(100)'를 재실행하고 이 코드를 실행하면 기존과 그래프 모양이 달라진다. 매번 random number가 달라지기 때문. \n",
        "\n",
        "\n",
        "#또는 import matplotlib.pyplot을 하고\n",
        "#matplotlib.pyplot.hist()를 해도 된다. \n",
        "\n",
        "#또는 import matplotlib.pyplot as plt라고 하면 훨씬 입력해야할 글자가 적어진다.\n",
        "#그냥 plt.hist(n) 이라고 하면 됨. \n",
        " "
      ],
      "metadata": {
        "id": "28B1bCd9hMXA"
      },
      "execution_count": null,
      "outputs": []
    },
    {
      "cell_type": "markdown",
      "source": [
        "- from import"
      ],
      "metadata": {
        "id": "V-FYjvLoh9EQ"
      }
    },
    {
      "cell_type": "code",
      "source": [
        "#import as처럼 축약해서 부르는 효과. \n",
        "\n",
        "from matplotlib import pyplot\n",
        "pyplot.hist(n)\n",
        "\n",
        "#이렇게 하는 거나\n",
        "from matplotlib.pyplot import hist\n",
        "hist(n)\n",
        "\n",
        "# 똑같다. "
      ],
      "metadata": {
        "id": "g7Aic9j3h_mP"
      },
      "execution_count": null,
      "outputs": []
    },
    {
      "cell_type": "markdown",
      "source": [
        "**Numpy_Matplotlib.ipynb**"
      ],
      "metadata": {
        "id": "eo-MG2j1oS3T"
      }
    },
    {
      "cell_type": "code",
      "source": [
        "import numpy as np  #numpy를 np로 정의"
      ],
      "metadata": {
        "id": "AQxJbQxtos3f"
      },
      "execution_count": 16,
      "outputs": []
    },
    {
      "cell_type": "code",
      "source": [
        "x = np.array([1,2,3]) #list가 계산이 되게 하려면 array로 바꾸어야 한다.\n",
        "print(x)\n",
        "print(type(x))\n",
        "print(x.shape)  # (3, ) --> 3개의 item이 들어있는 1d array."
      ],
      "metadata": {
        "id": "vkrzkKgYoukJ",
        "colab": {
          "base_uri": "https://localhost:8080/"
        },
        "outputId": "3331fe7f-43fb-43f0-c559-d9e927c11529"
      },
      "execution_count": 17,
      "outputs": [
        {
          "output_type": "stream",
          "name": "stdout",
          "text": [
            "[1 2 3]\n",
            "<class 'numpy.ndarray'>\n",
            "(3,)\n"
          ]
        }
      ]
    },
    {
      "cell_type": "code",
      "source": [
        "x = np.arange(0,10,2)  #0~10\"전\"까지의 숫자가 2씩 증가하는\n",
        "print(x)\n",
        "print(type(x))\n",
        "print(x.shape)"
      ],
      "metadata": {
        "id": "KAkQU6mOox3O"
      },
      "execution_count": null,
      "outputs": []
    },
    {
      "cell_type": "code",
      "source": [
        "x = np.linspace(0,10,6)  #linspace=linear space, np.linspace(0,10,6) --> 0에서 10을 '포함'gkdu emdqnsgks rksrurdmfh chd 6rodml tnfmf aksemfdjfk. \n",
        "print(x)\n",
        "print(type(x))\n",
        "print(x.shape)"
      ],
      "metadata": {
        "id": "zaPzVLS3o0jM"
      },
      "execution_count": null,
      "outputs": []
    },
    {
      "cell_type": "code",
      "source": [
        "x = np.array([[1,2,3], [4,5,6]])  \n",
        "#x = np.array([[1,2,3], [4,5,6]])  --> [1, 2, 3]\n",
        "#                                      [4, 5, 6]\n",
        "#                                   2 rows, 3 columns\n",
        "print(x)\n",
        "print(type(x))\n",
        "print(x.shape) # -->출력값: (row개수, column개수)"
      ],
      "metadata": {
        "id": "FsFOMZJLo3Du"
      },
      "execution_count": null,
      "outputs": []
    },
    {
      "cell_type": "code",
      "source": [
        "x = np.array([[[1,2,3], [4,5,6]], [[7,8,9], [10,11,12]]])   #중요\n",
        "print(x)\n",
        "print(type(x))\n",
        "print(x.shape)"
      ],
      "metadata": {
        "id": "aNwftrslo5jj"
      },
      "execution_count": null,
      "outputs": []
    },
    {
      "cell_type": "code",
      "source": [
        "x = np.ones([2, 2, 3])  #숫자 1로 [2, 2, 3]인 array 만들기\n",
        "print(x)\n",
        "print(type(x))\n",
        "print(x.shape)"
      ],
      "metadata": {
        "id": "WTNiRACso9bY"
      },
      "execution_count": null,
      "outputs": []
    },
    {
      "cell_type": "code",
      "source": [
        "x = np.zeros([2, 2, 3]) #숫자 0으로 [2, 2, 3]인 array 만들기\n",
        "print(x)\n",
        "print(type(x))\n",
        "print(x.shape)\n",
        "x.reshape(3,2,2)"
      ],
      "metadata": {
        "id": "arHKUV2hpBBO"
      },
      "execution_count": null,
      "outputs": []
    },
    {
      "cell_type": "markdown",
      "source": [
        "- Creating Random Numbers"
      ],
      "metadata": {
        "id": "ArmDjnvMpEiY"
      }
    },
    {
      "cell_type": "code",
      "source": [
        "np.random.normal(0, 1, [2,3,4])   #numpy.random.normal(평균, random number, [array])"
      ],
      "metadata": {
        "id": "5epDVunCpHLH",
        "colab": {
          "base_uri": "https://localhost:8080/"
        },
        "outputId": "8acbabb2-5fef-4aa1-d74e-a34d3e386805"
      },
      "execution_count": 18,
      "outputs": [
        {
          "output_type": "execute_result",
          "data": {
            "text/plain": [
              "array([[[-0.75123149,  0.48508206, -0.52663035, -2.10907985],\n",
              "        [-0.14805062,  0.82056253,  0.08227776,  2.00369364],\n",
              "        [-0.63802911,  1.01264676, -0.7526976 , -0.32009574]],\n",
              "\n",
              "       [[ 0.60293827,  0.66470291,  0.18345466, -0.64474098],\n",
              "        [-0.01070264,  0.60704424,  0.43243222, -0.85327673],\n",
              "        [ 1.38251945, -1.21708541, -1.04263426,  1.42718349]]])"
            ]
          },
          "metadata": {},
          "execution_count": 18
        }
      ]
    },
    {
      "cell_type": "code",
      "source": [
        "import matplotlib.pyplot as plt"
      ],
      "metadata": {
        "id": "TyIh7lP_pLAa"
      },
      "execution_count": 19,
      "outputs": []
    },
    {
      "cell_type": "code",
      "source": [
        "x = np.random.normal(0, 1, 100)   #100의 의미 --> 1d array이다. 긴 한줄에 숫자 100개\n",
        "print(x)\n",
        "plt.hist(x, bins=10) #bins=10 --> 통이 10개"
      ],
      "metadata": {
        "id": "dFiDDLFvpNE1",
        "colab": {
          "base_uri": "https://localhost:8080/",
          "height": 803
        },
        "outputId": "61b2bb2b-ad90-4613-a737-920cac9034ae"
      },
      "execution_count": 20,
      "outputs": [
        {
          "output_type": "stream",
          "name": "stdout",
          "text": [
            "[-2.30818546e+00 -7.42410198e-01  1.66921910e-01  2.51703700e-01\n",
            "  1.00484655e+00 -1.63242262e+00 -8.88481809e-01  1.33416586e+00\n",
            " -5.61998353e-01  2.26216707e+00 -5.07233020e-01  6.82916381e-01\n",
            " -2.56440212e+00  6.11106770e-02  1.28902627e+00 -1.15979812e+00\n",
            " -1.87645636e+00  5.18610772e-01 -9.14293820e-01  1.34157754e+00\n",
            " -1.11011565e+00 -6.11220305e-01  2.69307245e-01 -2.77649251e-01\n",
            " -1.07729121e+00 -1.15851962e+00 -1.51813120e+00  3.79008471e-01\n",
            "  3.67982994e-01 -9.92967703e-01 -7.09443273e-02 -5.55365207e-01\n",
            " -1.10782828e+00  1.76901062e+00 -2.73902864e-01 -3.13557995e-02\n",
            "  5.72748130e-01  1.89258934e+00  3.97021778e-03  7.77069622e-01\n",
            " -1.00363850e+00  2.28130191e+00  5.45460672e-01  1.06923861e-01\n",
            " -8.31883079e-01 -7.60243864e-01 -4.59316959e-01 -1.57861699e+00\n",
            "  6.80898847e-01  9.26195086e-01 -1.35762236e+00  6.08694321e-01\n",
            " -1.09177823e+00  2.65442654e-02  7.55202316e-01 -5.30745139e-01\n",
            " -1.05000928e+00  1.37806647e+00 -1.39100789e+00  1.07888879e-01\n",
            "  9.50876614e-01 -3.01845021e-01 -5.36070740e-01  5.53058394e-01\n",
            "  2.42726221e+00  1.13552463e+00 -6.58878461e-01  1.24117059e+00\n",
            " -6.38686939e-01 -7.59233210e-01  8.81708801e-01 -2.94190370e+00\n",
            " -2.78272015e-01 -1.33017398e+00 -8.20951942e-01 -5.71846841e-01\n",
            " -1.06006711e+00  1.70722686e+00 -6.52537346e-02 -2.96905147e-01\n",
            " -6.35807449e-02 -6.29392239e-01  6.87508494e-01  1.51472590e+00\n",
            "  6.43664753e-04  7.07813844e-01  8.49560227e-02 -1.01080197e+00\n",
            "  1.85381683e+00 -1.25779513e-01 -1.95555890e+00 -1.47621303e-02\n",
            " -1.74324740e-01 -1.86029722e+00  7.90833527e-02 -6.39183502e-01\n",
            " -2.17371722e+00  3.69847486e-01 -1.54093706e-01 -3.12521524e-01]\n"
          ]
        },
        {
          "output_type": "execute_result",
          "data": {
            "text/plain": [
              "(array([ 2.,  4.,  6., 16., 21., 19., 14.,  9.,  5.,  4.]),\n",
              " array([-2.9419037 , -2.40498711, -1.86807052, -1.33115392, -0.79423733,\n",
              "        -0.25732074,  0.27959585,  0.81651244,  1.35342903,  1.89034562,\n",
              "         2.42726221]),\n",
              " <a list of 10 Patch objects>)"
            ]
          },
          "metadata": {},
          "execution_count": 20
        },
        {
          "output_type": "display_data",
          "data": {
            "text/plain": [
              "<Figure size 432x288 with 1 Axes>"
            ],
            "image/png": "[encoded data removed]"
          },
          "metadata": {
            "needs_background": "light"
          }
        }
      ]
    },
    {
      "cell_type": "markdown",
      "source": [
        "- Generating a Sine Curve"
      ],
      "metadata": {
        "id": "i1v6q1YwpPP-"
      }
    },
    {
      "cell_type": "code",
      "source": [
        "plt.figure()\n",
        "\n",
        "theta1 = np.linspace(0, 2*np.pi, 100)   #2pi를 포함하여 100개의 숫자를 만들어라. theta --> radian으로서의 각도\n",
        "s1 = np.sin(theta1)\n",
        "theta2 = np.linspace(0, 2*np.pi, 100) + np.pi/2\n",
        "s2 = np.sin(theta2)\n",
        "\n",
        "plt.subplot(2, 1, 1) # (rows, columns, panel number) #첫번째 그림을 그려라.\n",
        "plt.plot(theta1, s1, '.') # '.'의 형태로.\n",
        "plt.subplot(2, 1, 2) # (rows, columns, panel number)\n",
        "plt.plot(theta2, s2, '.')"
      ],
      "metadata": {
        "id": "WNGbqGCmpVRV",
        "colab": {
          "base_uri": "https://localhost:8080/",
          "height": 283
        },
        "outputId": "3e97bba2-2d3f-4616-b911-f7041f883ea3"
      },
      "execution_count": 21,
      "outputs": [
        {
          "output_type": "execute_result",
          "data": {
            "text/plain": [
              "[<matplotlib.lines.Line2D at 0x7f0eb1dd6dd0>]"
            ]
          },
          "metadata": {},
          "execution_count": 21
        },
        {
          "output_type": "display_data",
          "data": {
            "text/plain": [
              "<Figure size 432x288 with 2 Axes>"
            ],
            "image/png": "[encoded data removed]"
          },
          "metadata": {
            "needs_background": "light"
          }
        }
      ]
    },
    {
      "cell_type": "code",
      "source": [
        "np.corrcoef(s1,s2)\n",
        "#-1=<r<=1\n",
        "#그래프의 모양이 y=x의 그래프처럼 그 축에 값들이 많이 분포해있으면 correlation이 높은 것. r의 '절대값'이 1에 가깝다는 의미.\n",
        "#일정한 유형을 보이지 않고 이곳저곳에 분포해있다면, r의 절대값이 0에 가깝다는 것."
      ],
      "metadata": {
        "id": "apEpcQsNpYVw"
      },
      "execution_count": null,
      "outputs": []
    }
  ]
}